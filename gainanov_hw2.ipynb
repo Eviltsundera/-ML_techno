{
 "cells": [
  {
   "cell_type": "markdown",
   "metadata": {},
   "source": [
    "# Алгоритмы интеллектуальной обработки больших объемов данных\n",
    "## Домашнее задание №2: Линейные модели\n"
   ]
  },
  {
   "cell_type": "markdown",
   "metadata": {},
   "source": [
    "###### <hr\\>\n",
    "**Общая информация**\n",
    "\n",
    "**Срок сдачи:** 5 ноября 2019, 06:00 <br\\>\n",
    "**Штраф за опоздание:** -2 балла после 06:00 5 ноября, -4 балла после 06:00 12 ноября, -6 баллов после 06:00 19 ноября  -8 баллов после 06:00 26 ноября.\n",
    "\n",
    "При отправлении ДЗ указывайте фамилию в названии файла Присылать ДЗ необходимо в виде ссылки на свой github репозиторий на почту ml1.sphere@mail.ru с указанием темы в следующем формате:\n",
    "[ML0919, Задание 2] Фамилия Имя.<br\\>\n",
    "\n",
    "Используйте данный Ipython Notebook при оформлении домашнего задания.\n",
    "\n",
    "**Штрафные баллы:**\n",
    "\n",
    "1. Невыполнение PEP8 -1 балл\n",
    "2. Отсутствие фамилии в имени скрипта (скрипт должен называться по аналогии со stroykova_hw2.ipynb) -1 балл\n",
    "3. Все строчки должны быть выполнены. Нужно, чтобы output команды можно было увидеть уже в git'е. В противном случае -1 балл\n",
    "4. При оформлении ДЗ нужно пользоваться данным файлом в качестве шаблона. Не нужно удалять и видоизменять написанный код и текст, если явно не указана такая возможность. В противном случае -1 балл\n",
    "<hr\\>"
   ]
  },
  {
   "cell_type": "code",
   "execution_count": 135,
   "metadata": {},
   "outputs": [],
   "source": [
    "import pandas as pd\n",
    "import numpy as np\n",
    "import matplotlib.pyplot as plt\n",
    "\n",
    "%matplotlib inline\n",
    "\n",
    "plt.style.use('ggplot')\n",
    "plt.rcParams['figure.figsize'] = (12,5)"
   ]
  },
  {
   "cell_type": "markdown",
   "metadata": {},
   "source": [
    "Здравствуйте, уважаемые студенты! \n",
    "\n",
    "В этом задании мы будем реализовать линейные модели. Необходимо реализовать линейную и логистическую регрессии с L2 регуляризацией"
   ]
  },
  {
   "cell_type": "markdown",
   "metadata": {},
   "source": [
    "# Теоретическое введение\n",
    "\n"
   ]
  },
  {
   "cell_type": "markdown",
   "metadata": {},
   "source": [
    "Линейная регрессия решает задачу регрессии и оптимизирует функцию потерь MSE \n",
    "\n",
    "$$L(w) =  \\frac{1}{N}\\left[\\sum_i (y_i - a_i) ^ 2 \\right], $$ где $y_i$ $-$ целевая функция,  $a_i = a(x_i) =  \\langle\\,x_i,w\\rangle ,$ $-$ предсказание алгоритма на объекте $x_i$, $w$ $-$ вектор весов (размерности $D$), $x_i$ $-$ вектор признаков (такой же размерности $D$).\n",
    "\n",
    "Не забываем, что здесь и далее  мы считаем, что в $x_i$ есть тождественный вектор единиц, ему соответствует вес $w_0$.\n"
   ]
  },
  {
   "cell_type": "markdown",
   "metadata": {},
   "source": [
    "Логистическая регрессия является линейным классификатором, который оптимизирует так называемый функционал log loss:"
   ]
  },
  {
   "cell_type": "markdown",
   "metadata": {},
   "source": [
    "$$L(w) = - \\frac{1}{N}\\left[\\sum_i y_i \\log a_i + ( 1 - y_i) \\log (1 - a_i) \\right],$$\n",
    "где  $y_i  \\in \\{0,1\\}$ $-$ метка класса, $a_i$ $-$ предсказание алгоритма на объекте $x_i$. Модель пытается предсказать апостериорую вероятность объекта принадлежать к классу \"1\":\n",
    "$$ p(y_i = 1 | x_i) = a(x_i) =  \\sigma( \\langle\\,x_i,w\\rangle ),$$\n",
    "$w$ $-$ вектор весов (размерности $D$), $x_i$ $-$ вектор признаков (такой же размерности $D$).\n",
    "\n",
    "Функция $\\sigma(x)$ $-$ нелинейная функция, пероводящее скалярное произведение объекта на веса в число $\\in (0,1)$ (мы же моделируем вероятность все-таки!)\n",
    "\n",
    "$$\\sigma(x) = \\frac{1}{1 + \\exp(-x)}$$\n",
    "\n",
    "Если внимательно посмотреть на функцию потерь, то можно заметить, что в зависимости от правильного ответа алгоритм штрафуется или функцией $-\\log a_i$, или функцией $-\\log (1 - a_i)$.\n",
    "\n"
   ]
  },
  {
   "cell_type": "markdown",
   "metadata": {},
   "source": [
    "Часто для решения проблем, которые так или иначе связаны с проблемой переобучения, в функционал качества добавляют слагаемое, которое называют ***регуляризацией***. Итоговый функционал для линейной регрессии тогда принимает вид:\n",
    "\n",
    "$$L(w) =  \\frac{1}{N}\\left[\\sum_i (y_i - a_i) ^ 2 \\right] + \\frac{1}{C}R(w) $$\n",
    "\n",
    "Для логистической: \n",
    "$$L(w) = - \\frac{1}{N}\\left[\\sum_i y_i \\log a_i + ( 1 - y_i) \\log (1 - a_i) \\right] +  \\frac{1}{C}R(w)$$\n",
    "\n",
    "Самое понятие регуляризации введено основателем ВМК академиком Тихоновым https://ru.wikipedia.org/wiki/Метод_регуляризации_Тихонова\n",
    "\n",
    "Идейно методика регуляризации заключается в следующем $-$ мы рассматриваем некорректно поставленную задачу (что это такое можно найти в интернете), для того чтобы сузить набор различных вариантов (лучшие из которых будут являться переобучением ) мы вводим дополнительные ограничения на множество искомых решений. На лекции Вы уже рассмотрели два варианта регуляризации.\n",
    "\n",
    "$L1$ регуляризация:\n",
    "$$R(w) = \\sum_{j=1}^{D}|w_j|$$\n",
    "$L2$ регуляризация:\n",
    "$$R(w) =  \\sum_{j=1}^{D}w_j^2$$\n",
    "\n",
    "С их помощью мы ограничиваем модель в  возможности выбора каких угодно весов минимизирующих наш лосс, модель уже не сможет подстроиться под данные как ей угодно. \n",
    "\n",
    "Вам нужно добавить соотвествущую Вашему варианту $L2$ регуляризацию.\n",
    "\n",
    "И так, мы поняли, какую функцию ошибки будем минимизировать, разобрались, как получить предсказания по объекту и обученным весам. Осталось разобраться, как получить оптимальные веса. Для этого нужно выбрать какой-то метод оптимизации.\n",
    "\n"
   ]
  },
  {
   "cell_type": "markdown",
   "metadata": {},
   "source": [
    "Градиентный спуск является самым популярным алгоритмом обучения линейных моделей. В этом задании Вам предложат реализовать стохастический градиентный спуск или  мини-батч градиентный спуск (мини-батч на русский язык довольно сложно перевести, многие переводят это как \"пакетный\", но мне не кажется этот перевод удачным). Далее нам потребуется определение **эпохи**.\n",
    "Эпохой в SGD и MB-GD называется один проход по **всем** объектам в обучающей выборки.\n",
    "* В SGD градиент расчитывается по одному случайному объекту. Сам алгоритм выглядит примерно так:\n",
    "        1) Перемешать выборку\n",
    "        2) Посчитать градиент функции потерь на одном объекте (далее один объект тоже будем называть батчем)\n",
    "        3) Сделать шаг спуска\n",
    "        4) Повторять 2) и 3) пока не пройдет максимальное число эпох.\n",
    "* В Mini Batch SGD - по подвыборке объектов. Сам алгоритм выглядит примерно так::\n",
    "        1) Перемешать выборку, выбрать размер мини-батча (от 1 до размера выборки)\n",
    "        2) Почитать градиент функции потерь по мини-батчу (не забыть поделить на  число объектов в мини-батче)\n",
    "        3) Сделать шаг спуска\n",
    "        4) Повторять 2) и 3) пока не пройдет максимальное число эпох.\n",
    "* Для отладки алгоритма реализуйте возможность  вывода средней ошибки на обучении модели по объектам (мини-батчам). После шага градиентного спуска посчитайте значение ошибки на объекте (или мини-батче), а затем усредните, например, по ста шагам. Если обучение проходит корректно, то мы должны увидеть, что каждые 100 шагов функция потерь уменьшается. \n",
    "* Правило останова - максимальное количество эпох\n",
    "    \n"
   ]
  },
  {
   "cell_type": "markdown",
   "metadata": {},
   "source": [
    "# Теоретические вопросы (2 балла)\n",
    "В этой части Вам будут предложены теоретичские вопросы и задачи по теме. Вы, конечно, можете списать их у своего товарища или найти решение в интернете, но учтите, что они обязательно войдут в теоретический коллоквиум. Лучше разобраться в теме сейчас и успешно ответить на коллоквиуме, чем списать, не разобравшись в материале, и быть терзаемым совестью. \n",
    "\n",
    "\n",
    "Формулы надо оформлять в формате **LaTeX**."
   ]
  },
  {
   "cell_type": "markdown",
   "metadata": {},
   "source": [
    "Задача 1. Градиент для линейной регрессии.\n",
    "* Выпишите формулу обновления весов для линейной регрессии с L2 регуляризацией для мини-батч градиентого спуска размера $n$:\n",
    "\n",
    "$$ w_{new} = w_{old} - ... $$\n",
    "\n",
    " Отнеситесь к этому пункту максимально серьезно, это Вам нужно будет реализовать в задании.\n",
    " \n",
    "Проанализруйте итоговую формулу градиента - как  интуитивно можно  описать, чему равен градиент?"
   ]
  },
  {
   "cell_type": "markdown",
   "metadata": {},
   "source": [
    "$$ Q(w)=\\frac{1}{N}[\\sum_{i}(y_i - a_i)^2] + \\frac{1}{C}\\sum_{j=1}^D w_j^2 $$\n",
    "$$ w_{new} = w_{old} - \\alpha grad_w Q(w) $$\n",
    "$$ grad_wQ(w) = \\frac{2}{N}[\\sum_{i}X_i(a_i-y_i)] + \\frac{2}{C}w $$"
   ]
  },
  {
   "cell_type": "markdown",
   "metadata": {},
   "source": [
    "Задача 2. Градиент для логистической регрессии.\n",
    "* Выпишите формулу обновления весов для логистической регрессии с L2 регуляризацией  для мини-батч градиентого спуска размера $n$:\n",
    "\n",
    "$$ w_{new} = w_{old} - ... $$\n",
    "\n",
    " Отнеситесь к этому пункту максимально серьезно, это Вам нужно будет реализовать в задании.\n",
    " \n",
    "Проанализруйте итоговую формулу градиента - как  интуитивно можно  описать, чему равен градиент? Как соотносится этот градиент с градиентом, возникающий в задаче линейной регрессии?\n",
    "\n",
    "Подсказка: Вам градиент, которой получается если “в лоб” продифференцировать,  надо немного преобразовать.\n",
    "Надо подставить, что $1 - \\sigma(w,x) $ это  $1 - a(x_i)$, а  $-\\sigma(w,x)$ это $0 - a(x_i)$.  Тогда получится свести к одной красивой формуле с линейной регрессией, которую программировать будет намного проще."
   ]
  },
  {
   "cell_type": "markdown",
   "metadata": {},
   "source": [
    "$$ \\sigma(x) = \\frac{x}{1+exp(-(x,w)}$$\n",
    "$$ w_{new} = w_{old} - \\alpha[\\frac{1}{N}\\sum_{i}^N (\\sigma(x_i)-y_i) +  \\frac{2}{C}w]$$"
   ]
  },
  {
   "cell_type": "markdown",
   "metadata": {},
   "source": [
    "Задача 3. Точное решение линейной регрессии\n",
    "\n",
    "На лекции было показано, что точное решение линейной регрессии имеет вид $w = (X^TX)^{-1}X^TY $. \n",
    "* Покажите, что это действительно является точкой минимума в случае, если матрица X имеет строк не меньше, чем столбцов и имеет полный ранг. Подсказка: посчитайте Гессиан и покажите, что в этом случае он положительно определен. \n",
    "* Выпишите точное решение для модели с $L2$ регуляризацией. Как L2 регуляризация помогает с точным решением где матрица X имеет линейно зависимые признаки?"
   ]
  },
  {
   "cell_type": "markdown",
   "metadata": {},
   "source": [
    "$$ Q(w) = ||y - Xw||^2$$\n",
    "$$ (y - X(X^TX)^{-1}X^Ty) = A$$\n",
    "$$ 0 = (X^Ty - X^TX(X^TX)^{-1}X^Ty) = X^TA$$\n",
    "$$ A = 0$$\n",
    "\n",
    "$$w = (X^TX + \\frac{1}{C}I)^{-1}X^Ty$$"
   ]
  },
  {
   "cell_type": "markdown",
   "metadata": {},
   "source": [
    "Задача 4.  Предсказываем вероятности.\n",
    "\n",
    "Когда говорят о логистической регрессии, произносят фразу, что она \"предсказывает вероятности положительного класса\". Давайте разберемся, что же за этим стоит. Посчитаем математическое ожидание функции потерь и проверим, что предсказание алгоритма, оптимизирующее это мат. ожидание, будет являться вероятностью положительного класса. \n",
    "\n",
    "И так, функция потерь на объекте $x_i$, который имеет метку $y_i \\in \\{0,1\\}$  для предсказания $a(x_i)$ равна:\n",
    "$$L(y_i, b) =-[y_i == 1] \\log a(x_i)  - [y_i == 0] \\log(1 - a(x_i)) $$\n",
    "\n",
    "Где $[]$ означает индикатор $-$ он равен единице, если значение внутри него истинно, иначе он равен нулю. Тогда мат. ожидание при условии конкретного $x_i$  по определение мат. ожидания дискретной случайной величины:\n",
    "$$E(L | x_i) = -p(y_i = 1 |x_i ) \\log a(x_i)  - p(y_i = 0 | x_i) \\log( 1 - a(x_i))$$\n",
    "* Докажите, что значение $a(x_i)$, минимизирующее данное мат. ожидание, в точности равно $p(y_i = 1 |x_i)$, то есть равно вероятности положительного класса.\n",
    "\n",
    "Подсказка: возможно, придется воспользоваться, что  $p(y_i = 1 | x_i) + p(y_i = 0 | x_i) = 1$"
   ]
  },
  {
   "cell_type": "markdown",
   "metadata": {},
   "source": [
    "$$ p_1 = p(y_i == 1|x_i), \\ p_0 = p(y_i == 0|x_i)$$\n",
    "$$ \\frac{-p_1}{a(x_i)} + \\frac{p_0}{1-a(x_i)} = 0$$\n",
    "$$ a(x_i) = \\frac{p_1}{p_1+p_0} = p_1 $$"
   ]
  },
  {
   "cell_type": "markdown",
   "metadata": {},
   "source": [
    "Задача 5.  Смысл регуляризации.\n",
    "\n",
    "Нужно ли в L1/L2 регуляризации использовать свободный член $w_0$ (который не умножается ни на какой признак)?\n",
    "\n",
    "Подсказка: подумайте, для чего мы вводим $w_0$"
   ]
  },
  {
   "cell_type": "markdown",
   "metadata": {},
   "source": [
    "***Ваше решение здесь***\n",
    "Мы вводим w0 для того, чтобы нашим решением могла стать любая гиперплоскость, а не только проходящие через начало координат. Если w0 учитывать в регуляризации, то его значение не сможет стать достаточно большим для точного решения.\n",
    "Таким образом мы ограничиваем множество w0, и следовательно множество плоскостей, которые могут я вляться решением."
   ]
  },
  {
   "cell_type": "markdown",
   "metadata": {},
   "source": [
    "#  Реализация линейной модели (5 баллов)"
   ]
  },
  {
   "cell_type": "markdown",
   "metadata": {},
   "source": [
    "## Зачем нужны батчи?\n"
   ]
  },
  {
   "cell_type": "markdown",
   "metadata": {},
   "source": [
    "Как Вы могли заметить из теоретического введения, что в случае SGD, что в случа mini-batch GD,  на каждой итерации обновление весов  происходит только по небольшой части данных (1 пример в случае SGD, batch примеров в случае mini-batch). То есть для каждой итерации нам *** не нужна вся выборка***. Мы можем просто итерироваться по выборке, беря батч нужного размера (далее 1 объект тоже будем называть батчом).\n",
    "\n",
    "Легко заметить, что в этом случае нам не нужно загружать все данные в оперативную память, достаточно просто считать батч с диска, обновить веса, считать диска другой батч и так далее. В целях упрощения домашней работы, прямо с диска  мы считывать не будем, будем работать с обычными numpy array. \n",
    "\n",
    "\n",
    "\n"
   ]
  },
  {
   "cell_type": "markdown",
   "metadata": {},
   "source": [
    "## Немножко про генераторы в Python\n",
    "\n"
   ]
  },
  {
   "cell_type": "markdown",
   "metadata": {},
   "source": [
    "Идея считывания данных кусками удачно ложится на так называемые ***генераторы*** из языка Python. В данной работе Вам предлагается не только разобраться с логистической регрессией, но  и познакомиться с таким важным элементом языка.  При желании Вы можете убрать весь код, связанный с генераторами, и реализовать логистическую регрессию и без них, ***штрафоваться это никак не будет***. Главное, чтобы сама модель была реализована правильно, и все пункты были выполнены. \n",
    "\n",
    "Подробнее можно почитать вот тут https://anandology.com/python-practice-book/iterators.html\n"
   ]
  },
  {
   "cell_type": "markdown",
   "metadata": {},
   "source": [
    "К генератору стоит относиться просто как к функции, которая порождает не один объект, а целую последовательность объектов. Новое значение из последовательности генерируется с помощью ключевого слова ***yield***. Ниже Вы можете насладиться  генератором чисел Фибоначчи."
   ]
  },
  {
   "cell_type": "code",
   "execution_count": 136,
   "metadata": {},
   "outputs": [],
   "source": [
    "def fib(max_iter=4):\n",
    "    a, b = 0, 1\n",
    "    iter_num = 0\n",
    "    while 1:\n",
    "        yield a\n",
    "        a, b = b, a + b\n",
    "        iter_num += 1\n",
    "        if iter_num == max_iter:\n",
    "            break"
   ]
  },
  {
   "cell_type": "markdown",
   "metadata": {},
   "source": [
    "Вот так можно сгенерировать последовательность Фибоначчи. \n",
    "\n",
    "Заметьте, что к генераторам можно применять некоторые стандартные функции из Python, например enumerate."
   ]
  },
  {
   "cell_type": "code",
   "execution_count": 137,
   "metadata": {},
   "outputs": [
    {
     "name": "stdout",
     "output_type": "stream",
     "text": [
      "Fib num: 0 fib values: 0\n",
      "Fib num: 1 fib values: 1\n",
      "Fib num: 2 fib values: 1\n",
      "Fib num: 3 fib values: 2\n"
     ]
    }
   ],
   "source": [
    "new_generator = fib()\n",
    "for j, fib_val in enumerate(new_generator):\n",
    "    print (\"Fib num: \" + str(j) + \" fib values: \" + str(fib_val))"
   ]
  },
  {
   "cell_type": "markdown",
   "metadata": {},
   "source": [
    "Пересоздавая объект, можно сколько угодно раз генерировать заново последовательность. "
   ]
  },
  {
   "cell_type": "code",
   "execution_count": 138,
   "metadata": {},
   "outputs": [
    {
     "name": "stdout",
     "output_type": "stream",
     "text": [
      "Fib num: 0 fib values: 0\n",
      "Fib num: 1 fib values: 1\n",
      "Fib num: 2 fib values: 1\n",
      "Fib num: 3 fib values: 2\n",
      "Fib num: 0 fib values: 0\n",
      "Fib num: 1 fib values: 1\n",
      "Fib num: 2 fib values: 1\n",
      "Fib num: 3 fib values: 2\n",
      "Fib num: 0 fib values: 0\n",
      "Fib num: 1 fib values: 1\n",
      "Fib num: 2 fib values: 1\n",
      "Fib num: 3 fib values: 2\n"
     ]
    }
   ],
   "source": [
    "for i in range(0, 3):\n",
    "    new_generator = fib()\n",
    "    for j, fib_val in enumerate(new_generator):\n",
    "        print (\"Fib num: \" + str(j) + \" fib values: \" + str(fib_val))"
   ]
  },
  {
   "cell_type": "markdown",
   "metadata": {},
   "source": [
    "А вот так уже нельзя."
   ]
  },
  {
   "cell_type": "code",
   "execution_count": 139,
   "metadata": {},
   "outputs": [
    {
     "name": "stdout",
     "output_type": "stream",
     "text": [
      "Fib num: 0 fib values: 0\n",
      "Fib num: 1 fib values: 1\n",
      "Fib num: 2 fib values: 1\n",
      "Fib num: 3 fib values: 2\n"
     ]
    }
   ],
   "source": [
    "new_generator = fib()\n",
    "for i in range(0, 3):\n",
    "    for j, fib_val in enumerate(new_generator):\n",
    "        print (\"Fib num: \" + str(j) + \" fib values: \" + str(fib_val))"
   ]
  },
  {
   "cell_type": "markdown",
   "metadata": {},
   "source": [
    "Концепция крайне удобная для обучения  моделей $-$ у Вас есть некий источник данных, который Вам выдает их кусками, и Вам совершенно все равно откуда он их берет. Под ним может скрывать как массив в оперативной памяти, как файл на жестком диске, так и SQL база данных. Вы сами данные никуда не сохраняете, оперативную память экономите."
   ]
  },
  {
   "cell_type": "markdown",
   "metadata": {},
   "source": [
    "Если Вам понравилась идея с генераторами, то Вы можете реализовать свой, используя прототип batch_generator. В нем Вам нужно выдавать батчи признаков и ответов для каждой новой итерации спуска. Если не понравилась идея, то можете реализовывать SGD или mini-batch GD без генераторов."
   ]
  },
  {
   "cell_type": "code",
   "execution_count": 140,
   "metadata": {},
   "outputs": [],
   "source": [
    "from sklearn.utils import shuffle\n",
    "from sklearn.datasets import fetch_openml\n",
    "from sklearn.model_selection import train_test_split\n",
    "import random\n",
    "from sklearn import datasets\n",
    "\n",
    "#def batch_generator(X, y, shuffle=True, batch_size=1):\n",
    "    \n",
    "#    Гератор новых батчей для обучения\n",
    "#    X          - матрица объекты-признаки\n",
    "#    y_batch    - вектор ответов\n",
    "#    shuffle    - нужно ли случайно перемешивать выборку\n",
    "#    batch_size - размер батча ( 1 это SGD, > 1 mini-batch GD)\n",
    "#    Генерирует подвыборку для итерации спуска (X_batch, y_batch)\n",
    "    \n",
    "    \n",
    "    \n",
    "def my_batch_generator (X, y, my_shuffle=True, batch_size=100): \n",
    "    if my_shuffle:\n",
    "        X, y = shuffle(X, y, random_state=0)\n",
    "    X_batch = np.zeros(shape=(batch_size, len(X[0])))\n",
    "    y_batch = np.zeros(shape=batch_size)\n",
    "    \n",
    "    for i in range(0, len(X) - batch_size, batch_size):\n",
    "        X_batch = [X[j] for j in range(i, i+batch_size)]\n",
    "        y_batch = [y[j] for j in range(i, i+batch_size)]\n",
    "        yield (X_batch, y_batch)\n",
    "\n",
    "# Теперь можно сделать генератор по данным ()\n",
    "#  my_batch_generator = batch_generator(X, y, shuffle=True, batch_size=1):"
   ]
  },
  {
   "cell_type": "code",
   "execution_count": 177,
   "metadata": {},
   "outputs": [],
   "source": [
    "#%% pycodestyle\n",
    "\n",
    "def sigmoid(x):\n",
    "    return 1.0 / (1 + np.exp(-x))\n",
    "\n",
    "\n",
    "from sklearn.base import BaseEstimator, ClassifierMixin\n",
    "\n",
    "\n",
    "class MySGDClassifier(BaseEstimator, ClassifierMixin):\n",
    "\n",
    "    def __init__(self, batch_generator, C=1, alpha=0.01, max_epoch=20,\n",
    "                 model_type='lin_reg', batch_size=1, drag=1):\n",
    "        \"\"\"\n",
    "        batch_generator - функция генератор, которой будем создавать батчи\n",
    "        batch_size      - количество элементов в батче\n",
    "        C               - коэф. регуляризации\n",
    "        alpha           - скорость спуска\n",
    "        max_epoch       - максимальное количество эпох\n",
    "        model_type      - тим модели, lin_reg или log_reg\n",
    "        drag            - коэффициент торможения обучения для улучшения сходимости\n",
    "\n",
    "        \"\"\"\n",
    "        self.C = C\n",
    "        self.alpha = alpha\n",
    "        self.max_epoch = max_epoch\n",
    "        self.batch_generator = batch_generator\n",
    "        self.errors_log = {'iter': [], 'loss': []}\n",
    "        self.model_type = model_type\n",
    "        self.batch_size = batch_size\n",
    "        self.drag = drag\n",
    "\n",
    "    def calc_loss(self, X_batch, y_batch, test_val=True):\n",
    "        \"\"\"\n",
    "        Считаем функцию потерь по батчу \n",
    "\n",
    "        X_batch  - матрица объекты-признаки по батчу\n",
    "        y_batch  - вектор ответов по батчу\n",
    "        test_val - является ли тестовой выборкой, если является - добавляет \n",
    "                   колонку единиц для учёта w_0\n",
    "        \"\"\"\n",
    "        if (test_val):\n",
    "            X_batch = self.adds_column_of_ones(X_batch)\n",
    "\n",
    "        loss = -1\n",
    "        if (self.model_type == 'lin_reg'):\n",
    "            arg = [(y_batch[i] - np.dot(self.weights, X_batch[i])) ** 2 for i in range(len(X_batch))]\n",
    "            loss = sum(arg) / len(y_batch)\n",
    "\n",
    "        elif (self.model_type == 'log_reg'):\n",
    "            arg = 0\n",
    "            for i in range(len(X_batch)):\n",
    "                s = sigmoid(np.dot(self.weights, X_batch[i]))\n",
    "                arg += -y_batch[i] * np.log(s) - (1 - y_batch[i]) * np.log(1 - s)\n",
    "            loss = arg / len(X_batch)\n",
    "\n",
    "        return loss + sum(self.weights[1:] ** 2) / self.C\n",
    "\n",
    "    def calc_loss_grad(self, X_batch, y_batch):\n",
    "        \"\"\"\n",
    "        Считаем градиент функции потерь по батчу (то что Вы вывели в задании 1)\n",
    "\n",
    "        X_batch - матрица объекты-признаки по батчу\n",
    "        y_batch - вектор ответов по батчу\n",
    "        \"\"\"\n",
    "        res = np.zeros(shape=len(self.weights))\n",
    "        loss_grad = 0\n",
    "        if (self.model_type == 'lin_reg'):\n",
    "            for i in range(len(X_batch)):\n",
    "                arg = np.dot(self.weights, X_batch[i]) - y_batch[i]\n",
    "                res += 2 * X_batch[i] * arg / len(X_batch[0]) + 2 * sum(self.weights[1:]) / self.C\n",
    "            loss_grad = -res / len(X_batch)\n",
    "\n",
    "        elif (self.model_type == 'log_reg'):\n",
    "            for i in range(len(X_batch)):\n",
    "                res += X_batch[i] * (y_batch[i] - sigmoid(np.dot(self.weights, X_batch[i])))\n",
    "            loss_grad = res / len(X_batch)\n",
    "\n",
    "        return loss_grad\n",
    "\n",
    "    def update_weights(self, new_grad):\n",
    "        \"\"\"\n",
    "        Обновляем вектор весов\n",
    "        new_grad - градиент по батчу\n",
    "        \"\"\"\n",
    "        self.weights = (self.weights + self.alpha * new_grad) / (1 + 1 / self.C)\n",
    "        pass\n",
    "\n",
    "    def adds_column_of_ones(self, X):\n",
    "        \"\"\"\n",
    "        добавляет колонку единиц для учёта w_0\n",
    "        \"\"\"\n",
    "        a = np.ones(len(X), dtype=int).reshape(len(X), 1)\n",
    "        X = np.column_stack((a, X))\n",
    "        return X\n",
    "\n",
    "    def fit(self, X, y):\n",
    "        \"\"\"\n",
    "        Обучение модели\n",
    "        X - матрица объекты-признаки\n",
    "        y - вектор ответов\n",
    "        \"\"\"\n",
    "        self.cl_names = np.array(list(map(int, np.unique(y))))\n",
    "        fit_complete = 0;\n",
    "        y = [int(y[i]) for i in range(len(y))]\n",
    "        self.weights = np.array([random.uniform(-0.1, 0.1) for i in range(len(X[0]) + 1)])\n",
    "        self.result = np.zeros(shape=10000)\n",
    "        iteration = 0\n",
    "        X = self.adds_column_of_ones(X)\n",
    "\n",
    "        for n in range(0, self.max_epoch):\n",
    "            X, y = shuffle(X, y, random_state=0)\n",
    "            prev_weights = self.weights\n",
    "            new_epoch_generator = self.batch_generator(X, y, self.batch_size)\n",
    "            for batch_num, new_batch in enumerate(new_epoch_generator):\n",
    "                X_batch = new_batch[0]\n",
    "                y_batch = new_batch[1]\n",
    "\n",
    "                batch_loss = self.calc_loss(X_batch, y_batch, test_val=False)\n",
    "                if (iteration < 10000):\n",
    "                    self.result[iteration] = batch_loss\n",
    "                    iteration += 1\n",
    "\n",
    "                batch_grad = self.calc_loss_grad(X_batch, y_batch)  #\n",
    "\n",
    "                prev_batch_grad = batch_grad\n",
    "                self.update_weights(batch_grad)\n",
    "                self.errors_log['iter'].append(batch_num)\n",
    "                self.errors_log['loss'].append(batch_loss)\n",
    "            self.alpha /= self.drag\n",
    "            print(n, ' = ', self.calc_loss(X, y, test_val=False))\n",
    "            if (np.sum(abs(prev_weights - self.weights)) < 0.e-4):\n",
    "                print('last epoch: ', n)\n",
    "                break;\n",
    "            if (fit_complete):\n",
    "                break;\n",
    "        return self\n",
    "\n",
    "    def predict(self, X):\n",
    "        \"\"\"\n",
    "        Предсказание класса\n",
    "        X - матрица объекты-признаки\n",
    "        \"\"\"\n",
    "        X = self.adds_column_of_ones(X)\n",
    "        y_hat = [np.dot(X[i], self.weights) for i in range(len(X))]\n",
    "        self.proba = [self.cl_names[np.argmin(abs(self.cl_names - y_hat[i]))] for i in range(len(y_hat))]\n",
    "        return y_hat\n",
    "\n",
    "    def score(self, X, y):\n",
    "        \"\"\"\n",
    "        считает точность фактического предсказания принадлежности объекта классу\n",
    "        \"\"\"\n",
    "        right_choice = 0\n",
    "        for i in range(len(y)):\n",
    "            if (y[i] == self.proba[i]):\n",
    "                right_choice += 1\n",
    "        return right_choice / len(y)\n",
    "    \n",
    "    def F_measure(self, X, y):\n",
    "        FN = FP = TP = 0\n",
    "        for i in range(len(y)):\n",
    "            if y[i] == self.proba[i] == 1:\n",
    "                TP += 1\n",
    "            if y[i] == 0 and self.proba[i] == 1:\n",
    "                FP += 1\n",
    "            if y[i] == 1 and self.proba[i] == 0:\n",
    "                FN += 1\n",
    "        precision = TP / (TP + FP)\n",
    "        recall = TP / (TP + FN)\n",
    "        return 2 * precision * recall / (precision + recall)\n",
    "\n"
   ]
  },
  {
   "cell_type": "code",
   "execution_count": 178,
   "metadata": {},
   "outputs": [],
   "source": [
    "iris = datasets.load_iris()\n",
    "df = np.array(iris)"
   ]
  },
  {
   "cell_type": "code",
   "execution_count": 179,
   "metadata": {},
   "outputs": [],
   "source": [
    "X_train, X_test, y_train, y_test = train_test_split(iris.data, iris.target, test_size=0.1, stratify=iris.target)"
   ]
  },
  {
   "cell_type": "code",
   "execution_count": 180,
   "metadata": {},
   "outputs": [],
   "source": [
    "my_clf = MySGDClassifier(batch_generator=my_batch_generator, alpha=0.09, C=2000, batch_size=5, max_epoch=20, drag=1.05)"
   ]
  },
  {
   "cell_type": "code",
   "execution_count": 181,
   "metadata": {},
   "outputs": [
    {
     "name": "stdout",
     "output_type": "stream",
     "text": [
      "0  =  1.6447295825047243\n",
      "1  =  1.9172534771940155\n",
      "2  =  2.0049099363080254\n",
      "3  =  1.9492243085329273\n",
      "4  =  1.4349139331236838\n",
      "5  =  1.0333146612986461\n",
      "6  =  0.5442213791656413\n",
      "7  =  0.33438232463766343\n",
      "8  =  0.24569478071871464\n",
      "9  =  0.19637149060633022\n",
      "10  =  0.17869255259516922\n",
      "11  =  0.16514287554409462\n",
      "12  =  0.15784225099154672\n",
      "13  =  0.14793359190553926\n",
      "14  =  0.1424031065666597\n",
      "15  =  0.13698782466995357\n",
      "16  =  0.13162681384630381\n",
      "17  =  0.12787725776800463\n",
      "18  =  0.12325285110730928\n",
      "19  =  0.12033849377981873\n",
      "CPU times: user 99.9 ms, sys: 28 ms, total: 128 ms\n",
      "Wall time: 115 ms\n"
     ]
    },
    {
     "data": {
      "text/plain": [
       "MySGDClassifier(C=2000, alpha=0.03392005345857002,\n",
       "                batch_generator=<function my_batch_generator at 0x122a06cb0>,\n",
       "                batch_size=5, drag=1.05, max_epoch=20, model_type='lin_reg')"
      ]
     },
     "execution_count": 181,
     "metadata": {},
     "output_type": "execute_result"
    }
   ],
   "source": [
    "%time my_clf.fit(X_train, y_train)"
   ]
  },
  {
   "cell_type": "code",
   "execution_count": 182,
   "metadata": {},
   "outputs": [
    {
     "data": {
      "image/png": "[encoded data removed]",
      "text/plain": [
       "<Figure size 936x504 with 1 Axes>"
      ]
     },
     "metadata": {},
     "output_type": "display_data"
    }
   ],
   "source": [
    "import pylab\n",
    "fig = pylab.figure(figsize = (13, 7))\n",
    "ax = fig.add_subplot(111) \n",
    "ax.plot(my_clf.result)\n",
    "pylab.ylim(0, 10)\n",
    "pylab.xlim(0, 80)\n",
    "pylab.xlabel('iteration', size=18)\n",
    "pylab.ylabel('calc_loss', size=18)\n",
    "ax.set_title('grafic', size=22)\n",
    "\n",
    "pylab.show()"
   ]
  },
  {
   "cell_type": "code",
   "execution_count": 183,
   "metadata": {},
   "outputs": [
    {
     "data": {
      "text/plain": [
       "0.8666666666666667"
      ]
     },
     "execution_count": 183,
     "metadata": {},
     "output_type": "execute_result"
    }
   ],
   "source": [
    "my_clf.predict(X_test)\n",
    "my_clf.score(X_test, y_test)"
   ]
  },
  {
   "cell_type": "markdown",
   "metadata": {},
   "source": [
    "Запустите обе регрессии на синтетических данных. \n",
    "\n",
    "\n",
    "Выведите полученные веса и нарисуйте разделяющую границу между классами (используйте только первых два веса для первых двух признаков X[:,0], X[:,1] для отображения в 2d пространство ).  "
   ]
  },
  {
   "cell_type": "code",
   "execution_count": 184,
   "metadata": {},
   "outputs": [],
   "source": [
    "def plot_decision_boundary(clf):\n",
    "    x = np.linspace(-5, 8, num=2)\n",
    "    y = -((clf.weights[0]*x+clf.weights[2])/clf.weights[1])\n",
    "    plt.plot(x, y, label='{}'.format(name))\n",
    "    pass"
   ]
  },
  {
   "cell_type": "code",
   "execution_count": 185,
   "metadata": {},
   "outputs": [
    {
     "name": "stdout",
     "output_type": "stream",
     "text": [
      "0  =  0.5432739088488063\n",
      "1  =  0.5113051943736208\n",
      "2  =  0.4899995968398151\n",
      "3  =  0.4735330770360731\n",
      "4  =  0.4698174235572574\n",
      "5  =  0.47269882013266296\n",
      "6  =  0.4267631151834239\n",
      "7  =  0.4253194871685438\n",
      "8  =  0.4225094690574959\n",
      "9  =  0.4554009105040357\n",
      "10  =  0.44128137984943716\n",
      "11  =  0.392851173249913\n",
      "12  =  0.4185532009013977\n",
      "13  =  0.3924771776641206\n",
      "14  =  0.37995753683480654\n",
      "15  =  0.4171021112114955\n",
      "16  =  0.37393234517342305\n",
      "17  =  0.37131781121762075\n",
      "18  =  0.3723811622764391\n",
      "19  =  0.37519883587997405\n",
      "20  =  0.37228174716663043\n",
      "21  =  0.36566203039853895\n",
      "22  =  0.36511633293484486\n",
      "23  =  0.3689598668065242\n",
      "24  =  0.36102283532362217\n",
      "25  =  0.3632765032920656\n",
      "26  =  0.3938036792618883\n",
      "27  =  0.36033113200338074\n",
      "28  =  0.35862327966472574\n",
      "29  =  0.3592827864676537\n",
      "CPU times: user 336 ms, sys: 56.8 ms, total: 393 ms\n",
      "Wall time: 390 ms\n",
      "0  =  0.8204219806636929\n",
      "1  =  0.7926171144099319\n",
      "2  =  0.7682540698872652\n",
      "3  =  0.744786714562937\n",
      "4  =  0.7283959781286101\n",
      "5  =  0.7138819761712076\n",
      "6  =  0.6914276910300472\n",
      "7  =  0.6770524736826047\n",
      "8  =  0.663913957787343\n",
      "9  =  0.6493709326918928\n",
      "10  =  0.6444099613867388\n",
      "11  =  0.6263256956034491\n",
      "12  =  0.6230066587834072\n",
      "13  =  0.6109168444694605\n",
      "14  =  0.5978991635184007\n",
      "15  =  0.5947429121876884\n",
      "16  =  0.5823999246080843\n",
      "17  =  0.5750891961933456\n",
      "18  =  0.5688917728140319\n",
      "19  =  0.5670647089049351\n",
      "20  =  0.5594651562026542\n",
      "21  =  0.551938244696509\n",
      "22  =  0.5478728372439248\n",
      "23  =  0.5453252906126411\n",
      "24  =  0.5392159584059049\n",
      "25  =  0.5381142054936284\n",
      "26  =  0.551870804464664\n",
      "27  =  0.5287489125045415\n",
      "28  =  0.5244134437986553\n",
      "29  =  0.5220595055336034\n",
      "CPU times: user 234 ms, sys: 57.3 ms, total: 291 ms\n",
      "Wall time: 249 ms\n"
     ]
    },
    {
     "data": {
      "text/plain": [
       "<matplotlib.collections.PathCollection at 0x1217f8790>"
      ]
     },
     "execution_count": 185,
     "metadata": {},
     "output_type": "execute_result"
    },
    {
     "data": {
      "image/png": "[encoded data removed]",
      "text/plain": [
       "<Figure size 936x504 with 1 Axes>"
      ]
     },
     "metadata": {},
     "output_type": "display_data"
    }
   ],
   "source": [
    "import pylab\n",
    "np.random.seed(0)\n",
    "\n",
    "C1 = np.array([[0., -0.8], [1.5, 0.8]])\n",
    "C2 = np.array([[1., -0.7], [2., 0.7]])\n",
    "gauss1 = np.dot(np.random.randn(200, 2) + np.array([5, 3]), C1)\n",
    "gauss2 = np.dot(np.random.randn(200, 2) + np.array([1.5, 0]), C2)\n",
    "\n",
    "X = np.vstack([gauss1, gauss2])\n",
    "y = np.r_[np.ones(200), np.zeros(200)]\n",
    "\n",
    "# plot_decision_boundary(your_model)\n",
    "\n",
    "import matplotlib.pyplot as plt\n",
    "import matplotlib.lines as mlines\n",
    "\n",
    "fig = pylab.figure(figsize = (13, 7)) \n",
    "\n",
    "my_clf = MySGDClassifier(batch_generator=my_batch_generator, model_type='log_reg', max_epoch=30, alpha=0.8, C=200, batch_size=50, drag=1.02)\n",
    "%time my_clf.fit(X, y)\n",
    "plt.plot(X, -(my_clf.weights[0] + my_clf.weights[1]*X) / my_clf.weights[2])\n",
    "\n",
    "y = y * 2 - 1\n",
    "\n",
    "clf = MySGDClassifier(batch_generator=my_batch_generator, model_type=\"lin_reg\", max_epoch=30, alpha=0.08, C=200, batch_size=30)\n",
    "%time clf.fit(X, y)\n",
    "plt.plot(X, -(clf.weights[0] + clf.weights[1]*X) / clf.weights[2])\n",
    "\n",
    "#model_type=\"lin_reg\", max_epoch=30, alpha=0.05, C=200, batch_size=50\n",
    "\n",
    "pylab.ylim(-5, 2)\n",
    "pylab.xlim(-6, 8)\n",
    "plt.scatter(X[:,0], X[:,1], c=y)\n",
    "#my_clf = MySGDClassifier(batch_generator=my_batch_generator, alpha=0.3, C=20000, batch_size=100, max_epoch=40, drag=1.1)\n",
    "#my_clf = MySGDClassifier(batch_generator=my_batch_generator, model_type=\"log_reg\", alpha=0.4, C=20000, batch_size=100, max_epoch=40, drag=1.05)"
   ]
  },
  {
   "cell_type": "markdown",
   "metadata": {},
   "source": [
    "Далее будем анализировать Ваш алгоритм. \n",
    "Для этих заданий используйте датасет ниже."
   ]
  },
  {
   "cell_type": "code",
   "execution_count": 186,
   "metadata": {},
   "outputs": [],
   "source": [
    "from sklearn.datasets import make_classification"
   ]
  },
  {
   "cell_type": "code",
   "execution_count": 187,
   "metadata": {},
   "outputs": [],
   "source": [
    "X, y = make_classification(n_samples=100000, n_features=10, \n",
    "                           n_informative=4, n_redundant=0, \n",
    "                           random_state=123, class_sep=1.0,\n",
    "                           n_clusters_per_class=1)"
   ]
  },
  {
   "cell_type": "markdown",
   "metadata": {},
   "source": [
    "Покажите сходимости обеих регрессией на этом датасете: изобразите график  функции потерь, усредненной по $N$ шагам градиентого спуска, для разных `alpha` (размеров шага). Разные `alpha` расположите на одном графике. \n",
    "\n",
    "$N$ можно брать 10, 50, 100 и т.д. "
   ]
  },
  {
   "cell_type": "code",
   "execution_count": 188,
   "metadata": {},
   "outputs": [],
   "source": [
    "## Your Code Here\n",
    "X_train, X_test, y_train, y_test = train_test_split(X, y, test_size=0.01, stratify=y)\n",
    "my_clf = MySGDClassifier(batch_generator=my_batch_generator, max_epoch=6, alpha=0.5, C=10000, batch_size=50)"
   ]
  },
  {
   "cell_type": "code",
   "execution_count": 189,
   "metadata": {},
   "outputs": [
    {
     "name": "stdout",
     "output_type": "stream",
     "text": [
      "0  =  0.04044150420382796\n",
      "1  =  0.040658897870903224\n",
      "2  =  0.04052919241269165\n",
      "3  =  0.04044705706275687\n",
      "4  =  0.04071122758886905\n",
      "5  =  0.040538381226996795\n"
     ]
    },
    {
     "data": {
      "text/plain": [
       "MySGDClassifier(C=10000, alpha=0.5,\n",
       "                batch_generator=<function my_batch_generator at 0x122a06cb0>,\n",
       "                batch_size=50, drag=1, max_epoch=6, model_type='lin_reg')"
      ]
     },
     "execution_count": 189,
     "metadata": {},
     "output_type": "execute_result"
    }
   ],
   "source": [
    "my_clf.fit(X_train, y_train)"
   ]
  },
  {
   "cell_type": "code",
   "execution_count": 190,
   "metadata": {},
   "outputs": [
    {
     "data": {
      "image/png": "[encoded data removed]",
      "text/plain": [
       "<Figure size 936x504 with 1 Axes>"
      ]
     },
     "metadata": {},
     "output_type": "display_data"
    }
   ],
   "source": [
    "import pylab\n",
    "fig = pylab.figure(figsize = (13, 7))\n",
    "ax = fig.add_subplot(111) \n",
    "ax.plot(my_clf.result)\n",
    "pylab.ylim(0, 2)\n",
    "pylab.xlim(0, 100)\n",
    "pylab.xlabel('iteration', size=18)\n",
    "pylab.ylabel('calc_loss', size=18)\n",
    "ax.set_title('grafic', size=22)\n",
    "\n",
    "pylab.show()"
   ]
  },
  {
   "cell_type": "code",
   "execution_count": 191,
   "metadata": {},
   "outputs": [
    {
     "name": "stdout",
     "output_type": "stream",
     "text": [
      "CPU times: user 9.88 ms, sys: 4.03 ms, total: 13.9 ms\n",
      "Wall time: 10 ms\n"
     ]
    },
    {
     "data": {
      "text/plain": [
       "0.04181955539469663"
      ]
     },
     "execution_count": 191,
     "metadata": {},
     "output_type": "execute_result"
    }
   ],
   "source": [
    "%time my_clf.calc_loss(X_test, y_test)"
   ]
  },
  {
   "cell_type": "code",
   "execution_count": 192,
   "metadata": {},
   "outputs": [
    {
     "data": {
      "text/plain": [
       "0.986"
      ]
     },
     "execution_count": 192,
     "metadata": {},
     "output_type": "execute_result"
    }
   ],
   "source": [
    "my_clf.predict(X_test)\n",
    "my_clf.score(X_test, y_test)"
   ]
  },
  {
   "cell_type": "code",
   "execution_count": 193,
   "metadata": {},
   "outputs": [],
   "source": [
    "X, y = make_classification(n_samples=100000, n_features=10, \n",
    "                           n_informative=4, n_redundant=0, \n",
    "                           random_state=123, class_sep=1.0,\n",
    "                           n_clusters_per_class=1)"
   ]
  },
  {
   "cell_type": "code",
   "execution_count": 194,
   "metadata": {},
   "outputs": [],
   "source": [
    "X_train, X_test, y_train, y_test = train_test_split(X, y, test_size=0.01, stratify=y)\n",
    "my_clf = MySGDClassifier(batch_generator=my_batch_generator, model_type='log_reg', max_epoch=1, alpha=0.05, C=200, batch_size=20, drag=1.1)"
   ]
  },
  {
   "cell_type": "code",
   "execution_count": 195,
   "metadata": {},
   "outputs": [
    {
     "name": "stdout",
     "output_type": "stream",
     "text": [
      "0  =  0.18036940113317876\n",
      "CPU times: user 2.27 s, sys: 42.2 ms, total: 2.31 s\n",
      "Wall time: 2.33 s\n"
     ]
    },
    {
     "data": {
      "text/plain": [
       "MySGDClassifier(C=200, alpha=0.045454545454545456,\n",
       "                batch_generator=<function my_batch_generator at 0x122a06cb0>,\n",
       "                batch_size=20, drag=1.1, max_epoch=1, model_type='log_reg')"
      ]
     },
     "execution_count": 195,
     "metadata": {},
     "output_type": "execute_result"
    }
   ],
   "source": [
    "%time my_clf.fit(X_train, y_train)"
   ]
  },
  {
   "cell_type": "code",
   "execution_count": 196,
   "metadata": {},
   "outputs": [
    {
     "data": {
      "image/png": "[encoded data removed]",
      "text/plain": [
       "<Figure size 936x504 with 1 Axes>"
      ]
     },
     "metadata": {},
     "output_type": "display_data"
    }
   ],
   "source": [
    "import pylab\n",
    "fig = pylab.figure(figsize = (13, 7))\n",
    "ax = fig.add_subplot(111) \n",
    "ax.plot(my_clf.result)\n",
    "pylab.ylim(0, 1)\n",
    "pylab.xlim(0, 2000)\n",
    "pylab.xlabel('iteration', size=18)\n",
    "pylab.ylabel('calc_loss', size=18)\n",
    "ax.set_title('grafic', size=22)\n",
    "\n",
    "pylab.show()\n",
    "#резкое падение ошибки до нуля - конец обучения"
   ]
  },
  {
   "cell_type": "code",
   "execution_count": 197,
   "metadata": {},
   "outputs": [
    {
     "name": "stdout",
     "output_type": "stream",
     "text": [
      "CPU times: user 21.2 ms, sys: 3.36 ms, total: 24.6 ms\n",
      "Wall time: 23.3 ms\n"
     ]
    },
    {
     "data": {
      "text/plain": [
       "0.17801443883157583"
      ]
     },
     "execution_count": 197,
     "metadata": {},
     "output_type": "execute_result"
    }
   ],
   "source": [
    "%time my_clf.calc_loss(X_test, y_test)"
   ]
  },
  {
   "cell_type": "code",
   "execution_count": 198,
   "metadata": {},
   "outputs": [
    {
     "data": {
      "text/plain": [
       "0.943"
      ]
     },
     "execution_count": 198,
     "metadata": {},
     "output_type": "execute_result"
    }
   ],
   "source": [
    "my_clf.predict(X_test)\n",
    "my_clf.score(X_test, y_test)"
   ]
  },
  {
   "cell_type": "markdown",
   "metadata": {},
   "source": [
    "Что Вы можете сказать про сходимость метода при различных `alpha`? Какое значение стоит выбирать для лучшей сходимости?"
   ]
  },
  {
   "cell_type": "code",
   "execution_count": 199,
   "metadata": {},
   "outputs": [],
   "source": [
    "#при изначально больших alpha ( > 1) ошибка резко увеличивается, \n",
    "#в то время как для для слишком маленьких ( < 0.01) не успевает сойтись за отведённые эпохи.\n",
    "#эмперическим путём было получено что лучшую сходимость на предложенных данных наиименьшую ошибку обеспечивают\n",
    "#alpha порядка 0.01 с коффициентом торможения (drag) 1.1"
   ]
  },
  {
   "cell_type": "markdown",
   "metadata": {},
   "source": [
    "Изобразите график среднего значения весов для обеих регрессий в зависимости от коеф. регуляризации С из `np.logspace(3, -3, 10)` "
   ]
  },
  {
   "cell_type": "code",
   "execution_count": 200,
   "metadata": {},
   "outputs": [
    {
     "name": "stdout",
     "output_type": "stream",
     "text": [
      "0  =  0.10503543590695431\n",
      "0  =  0.20726679074392887\n",
      "0  =  0.3605961195652049\n",
      "0  =  0.4592672551132361\n",
      "0  =  0.4910376550274325\n",
      "0  =  0.4980134960652225\n",
      "0  =  0.49968646460700733\n",
      "0  =  0.5000327455720401\n",
      "0  =  0.5000826904784869\n",
      "0  =  0.5000968296630747\n"
     ]
    },
    {
     "data": {
      "image/png": "[encoded data removed]",
      "text/plain": [
       "<Figure size 864x360 with 1 Axes>"
      ]
     },
     "metadata": {},
     "output_type": "display_data"
    }
   ],
   "source": [
    "## Your Code Here\n",
    "grafic = np.zeros(shape=len(np.logspace(3, -3, 10)))\n",
    "j = 0\n",
    "for i in range(len(np.logspace(3, -3, 10))):\n",
    "    X_train, X_test, y_train, y_test = train_test_split(X, y, test_size=0.01, stratify=y)\n",
    "    my_clf = MySGDClassifier(batch_generator=my_batch_generator, model_type='lin_reg', max_epoch=1, alpha=0.01, C=np.logspace(3, -3, 10)[i], batch_size=50, drag=1.1)\n",
    "    my_clf.fit(X_train, y_train)\n",
    "    grafic[i] = np.mean(my_clf.weights)\n",
    "\n",
    "import matplotlib.pyplot as plt\n",
    "import numpy as np\n",
    "\n",
    "# Prepare the data\n",
    "x = np.linspace(3, -3, 10)\n",
    "y = grafic\n",
    "# Plot the data\n",
    "plt.plot(x, y, label='mean weights')\n",
    "\n",
    "# Add a legend\n",
    "plt.legend()\n",
    "\n",
    "# Show the plot\n",
    "plt.show()"
   ]
  },
  {
   "cell_type": "markdown",
   "metadata": {},
   "source": [
    "Довольны ли Вы, насколько сильно уменьшились Ваши веса? "
   ]
  },
  {
   "cell_type": "markdown",
   "metadata": {},
   "source": [
    "# Боевое применение (3  балла)"
   ]
  },
  {
   "cell_type": "markdown",
   "metadata": {},
   "source": [
    "Давайте применим модель на итоговом проекте! Датасет сделаем точно таким же образом, как было показано в project_overview.ipynb\n",
    "\n",
    "Применим обе регрессии, подберем для них параметры и сравним качество. Может быть Вы еще одновременно с решением домашней работы подрастете на лидерборде!"
   ]
  },
  {
   "cell_type": "code",
   "execution_count": 212,
   "metadata": {},
   "outputs": [
    {
     "name": "stdout",
     "output_type": "stream",
     "text": [
      "28026\n"
     ]
    }
   ],
   "source": [
    "doc_to_title = {}\n",
    "with open('docs_titles.tsv') as f:\n",
    "    for num_line, line in enumerate(f):\n",
    "        if num_line == 0:\n",
    "            continue\n",
    "        data = line.strip().split('\\t', 1)\n",
    "        doc_id = int(data[0])\n",
    "        if len(data) == 1:\n",
    "            title = ''\n",
    "        else:\n",
    "            title = data[1]\n",
    "        doc_to_title[doc_id] = title\n",
    "print (len(doc_to_title))\n"
   ]
  },
  {
   "cell_type": "code",
   "execution_count": 213,
   "metadata": {},
   "outputs": [],
   "source": [
    "import pandas as pd\n",
    "train_data = pd.read_csv('train_groups.csv')\n",
    "traingroups_titledata = {}\n",
    "for i in range(len(train_data)):\n",
    "    new_doc = train_data.iloc[i]\n",
    "    doc_group = new_doc['group_id']\n",
    "    doc_id = new_doc['doc_id']\n",
    "    target = new_doc['target']\n",
    "    title = doc_to_title[doc_id]\n",
    "    if doc_group not in traingroups_titledata:\n",
    "        traingroups_titledata[doc_group] = []\n",
    "    traingroups_titledata[doc_group].append((doc_id, title, target))"
   ]
  },
  {
   "cell_type": "code",
   "execution_count": 214,
   "metadata": {},
   "outputs": [
    {
     "name": "stdout",
     "output_type": "stream",
     "text": [
      "(11690, 15) (11690,) (11690,)\n"
     ]
    }
   ],
   "source": [
    "import numpy as np\n",
    "y_train = []\n",
    "X_train = []\n",
    "groups_train = []\n",
    "for new_group in traingroups_titledata:\n",
    "    docs = traingroups_titledata[new_group]\n",
    "    for k, (doc_id, title, target_id) in enumerate(docs):\n",
    "        y_train.append(target_id)\n",
    "        groups_train.append(new_group)\n",
    "        all_dist = []\n",
    "        words = set(title.strip().split())\n",
    "        for j in range(0, len(docs)):\n",
    "            if k == j:\n",
    "                continue\n",
    "            doc_id_j, title_j, target_j = docs[j]\n",
    "            words_j = set(title_j.strip().split())\n",
    "            all_dist.append(len(words.intersection(words_j)))\n",
    "        X_train.append(sorted(all_dist, reverse=True)[0:15]    )\n",
    "X_train = np.array(X_train)\n",
    "y_train = np.array(y_train)\n",
    "groups_train = np.array(groups_train)\n",
    "print (X_train.shape, y_train.shape, groups_train.shape)"
   ]
  },
  {
   "cell_type": "markdown",
   "metadata": {},
   "source": [
    "Подберите размер батча для обучения. Линейная модель не должна учиться дольше нескольких минут. \n",
    "\n",
    "Не забывайте использовать скейлер!"
   ]
  },
  {
   "cell_type": "code",
   "execution_count": 215,
   "metadata": {},
   "outputs": [],
   "source": [
    "from sklearn.metrics import f1_score\n",
    "from sklearn.linear_model import LinearRegression\n",
    "from sklearn.preprocessing import StandardScaler"
   ]
  },
  {
   "cell_type": "code",
   "execution_count": 216,
   "metadata": {},
   "outputs": [
    {
     "name": "stdout",
     "output_type": "stream",
     "text": [
      "StandardScaler(copy=True, with_mean=True, with_std=True)\n",
      "[3.25543199 2.62147134 2.33088109 2.13404619 1.98973482 1.87938409\n",
      " 1.78887938 1.70196749 1.63378956 1.57690334 1.52788708 1.47698888\n",
      " 1.43062447 1.38477331 1.33977759]\n",
      "[[4 4 3 3 3 2 2 2 2 2 2 2 2 1 1]\n",
      " [8 7 7 7 7 7 4 4 3 3 2 2 2 2 2]\n",
      " [2 2 2 2 2 2 2 1 1 1 1 1 1 1 1]\n",
      " [1 1 1 1 1 1 1 1 1 1 1 1 1 1 1]\n",
      " [2 2 2 2 1 1 1 1 1 1 1 1 1 1 1]\n",
      " [1 1 1 1 1 1 1 1 1 1 1 1 1 1 1]\n",
      " [2 2 2 1 1 1 1 1 1 1 1 1 1 1 1]\n",
      " [2 2 2 2 2 2 1 1 1 1 1 1 1 1 1]\n",
      " [4 3 2 2 2 2 2 2 2 2 2 2 2 1 1]\n",
      " [2 2 2 2 1 1 1 1 1 1 1 1 1 1 1]]\n",
      "[[ 0.28851817  0.64985075  0.34754853  0.48147109  0.59175091  0.07308688\n",
      "   0.13221894  0.19461288  0.24432264  0.28747714  0.32706765  0.36947476\n",
      "   0.40832322 -0.2798612  -0.25235498]\n",
      " [ 1.83850779  2.06407761  2.42519734  2.70547468  2.9347037   3.10282323\n",
      "   1.38476303  1.50059713  0.91148724  0.96693684  0.32706765  0.36947476\n",
      "   0.40832322  0.44747927  0.49035139]\n",
      " [-0.48647664 -0.29296716 -0.17186368 -0.0745298   0.00601271  0.07308688\n",
      "   0.13221894 -0.45837925 -0.42284196 -0.39198257 -0.36570656 -0.33696291\n",
      "  -0.30881898 -0.2798612  -0.25235498]\n",
      " [-0.87397404 -0.76437611 -0.69127588 -0.6305307  -0.57972549 -0.53286039\n",
      "  -0.4940531  -0.45837925 -0.42284196 -0.39198257 -0.36570656 -0.33696291\n",
      "  -0.30881898 -0.2798612  -0.25235498]\n",
      " [-0.48647664 -0.29296716 -0.17186368 -0.0745298  -0.57972549 -0.53286039\n",
      "  -0.4940531  -0.45837925 -0.42284196 -0.39198257 -0.36570656 -0.33696291\n",
      "  -0.30881898 -0.2798612  -0.25235498]\n",
      " [-0.87397404 -0.76437611 -0.69127588 -0.6305307  -0.57972549 -0.53286039\n",
      "  -0.4940531  -0.45837925 -0.42284196 -0.39198257 -0.36570656 -0.33696291\n",
      "  -0.30881898 -0.2798612  -0.25235498]\n",
      " [-0.48647664 -0.29296716 -0.17186368 -0.6305307  -0.57972549 -0.53286039\n",
      "  -0.4940531  -0.45837925 -0.42284196 -0.39198257 -0.36570656 -0.33696291\n",
      "  -0.30881898 -0.2798612  -0.25235498]\n",
      " [-0.48647664 -0.29296716 -0.17186368 -0.0745298   0.00601271  0.07308688\n",
      "  -0.4940531  -0.45837925 -0.42284196 -0.39198257 -0.36570656 -0.33696291\n",
      "  -0.30881898 -0.2798612  -0.25235498]\n",
      " [ 0.28851817  0.1784418  -0.17186368 -0.0745298   0.00601271  0.07308688\n",
      "   0.13221894  0.19461288  0.24432264  0.28747714  0.32706765  0.36947476\n",
      "   0.40832322 -0.2798612  -0.25235498]\n",
      " [-0.48647664 -0.29296716 -0.17186368 -0.0745298  -0.57972549 -0.53286039\n",
      "  -0.4940531  -0.45837925 -0.42284196 -0.39198257 -0.36570656 -0.33696291\n",
      "  -0.30881898 -0.2798612  -0.25235498]]\n"
     ]
    }
   ],
   "source": [
    "scaler = StandardScaler()\n",
    "print(scaler.fit(X_train))\n",
    "print(scaler.mean_)\n",
    "print(X_train[:10])\n",
    "X_train = scaler.transform(X_train)\n",
    "print(X_train[:10])"
   ]
  },
  {
   "cell_type": "code",
   "execution_count": 217,
   "metadata": {},
   "outputs": [],
   "source": [
    "X = X_train\n",
    "y = y_train\n",
    "X_train, X_test, y_train, y_test = train_test_split(X, y, test_size=0.01, stratify=y)\n",
    "my_clf = MySGDClassifier(batch_generator=my_batch_generator, model_type='log_reg', max_epoch=13, alpha=0.04, C=20000, batch_size = 25, drag=1.05)\n",
    "#model_type='log_reg', max_epoch=30, alpha=0.5, C=20000, batch_size = 25"
   ]
  },
  {
   "cell_type": "code",
   "execution_count": 218,
   "metadata": {},
   "outputs": [
    {
     "name": "stdout",
     "output_type": "stream",
     "text": [
      "0  =  0.5015005607881909\n",
      "1  =  0.4850450493948088\n",
      "2  =  0.481440490863407\n",
      "3  =  0.48074430967988896\n",
      "4  =  0.48019149058436394\n",
      "5  =  0.47985526942426304\n",
      "6  =  0.48007215451763\n",
      "7  =  0.47972817869173906\n",
      "8  =  0.47976405278358214\n",
      "9  =  0.4800195571206124\n",
      "10  =  0.47960667170593424\n",
      "11  =  0.4795487758300855\n",
      "12  =  0.47949742607713475\n",
      "CPU times: user 4.13 s, sys: 214 ms, total: 4.34 s\n",
      "Wall time: 4.51 s\n"
     ]
    },
    {
     "data": {
      "text/plain": [
       "MySGDClassifier(C=20000, alpha=0.02121285402581178,\n",
       "                batch_generator=<function my_batch_generator at 0x122a06cb0>,\n",
       "                batch_size=25, drag=1.05, max_epoch=13, model_type='log_reg')"
      ]
     },
     "execution_count": 218,
     "metadata": {},
     "output_type": "execute_result"
    }
   ],
   "source": [
    "%time my_clf.fit(X_train, y_train)"
   ]
  },
  {
   "cell_type": "code",
   "execution_count": 219,
   "metadata": {},
   "outputs": [
    {
     "name": "stdout",
     "output_type": "stream",
     "text": [
      "CPU times: user 3.21 ms, sys: 858 µs, total: 4.07 ms\n",
      "Wall time: 3.42 ms\n"
     ]
    },
    {
     "data": {
      "text/plain": [
       "0.5400028231081749"
      ]
     },
     "execution_count": 219,
     "metadata": {},
     "output_type": "execute_result"
    }
   ],
   "source": [
    "%time my_clf.calc_loss(X_test, y_test)"
   ]
  },
  {
   "cell_type": "code",
   "execution_count": 220,
   "metadata": {},
   "outputs": [
    {
     "data": {
      "text/plain": [
       "[-1.6597391985466137,\n",
       " 0.4973529483025769,\n",
       " -0.8738359816617818,\n",
       " -0.03712578540997313,\n",
       " -1.0760275955322194,\n",
       " -0.9271046289366927,\n",
       " -1.1838408553360942,\n",
       " -2.066195527777412,\n",
       " -2.4674666187963568,\n",
       " -1.6597391985466137,\n",
       " -0.8956601850266928,\n",
       " -1.1057893834588768,\n",
       " -1.5031384667284804,\n",
       " -1.3265997681031598,\n",
       " -1.6218154181274638,\n",
       " -1.6597391985466137,\n",
       " -1.2019274255390182,\n",
       " -2.4674666187963568,\n",
       " 0.20866238146136729,\n",
       " -0.8392666456515877,\n",
       " -0.8359122012426317,\n",
       " -1.220544327108519,\n",
       " -0.13158117150677207,\n",
       " -0.8359122012426317,\n",
       " -1.4612816816216154,\n",
       " -1.0381038151130693,\n",
       " -1.8916926003437085,\n",
       " 0.04684376367627263,\n",
       " 1.3234709980419326,\n",
       " -2.445642415431446,\n",
       " -2.1708196188291202,\n",
       " -1.9240535024299386,\n",
       " -0.8577364046075429,\n",
       " -0.6208373884243674,\n",
       " 1.2403363953949607,\n",
       " -1.3849682556732077,\n",
       " -1.1057893834588768,\n",
       " -1.1838408553360942,\n",
       " 0.6761462487429712,\n",
       " -1.46521468630933,\n",
       " 0.8763007723561601,\n",
       " -1.3854341207833152,\n",
       " 1.1277710949779847,\n",
       " -1.6597391985466137,\n",
       " -0.04571570799006042,\n",
       " -0.5611412583692258,\n",
       " -2.310865886978223,\n",
       " -1.6815634019115249,\n",
       " -0.7172352498436482,\n",
       " -1.9240535024299386,\n",
       " -1.2584681075276691,\n",
       " -1.8385324989870075,\n",
       " -2.289041683613312,\n",
       " 1.7553766888146065,\n",
       " -1.2802923108925803,\n",
       " -1.6815634019115249,\n",
       " -2.1708196188291202,\n",
       " -1.363144052308297,\n",
       " -0.7552536451975653,\n",
       " -2.0443713244125012,\n",
       " -1.5031384667284804,\n",
       " -1.6815634019115249,\n",
       " -2.1708196188291202,\n",
       " -1.6597391985466137,\n",
       " 0.4422503716233941,\n",
       " -1.9240535024299386,\n",
       " -2.1490472691931286,\n",
       " -0.8053553151754336,\n",
       " -1.4831058849865264,\n",
       " -1.6815634019115249,\n",
       " -0.6972026681016944,\n",
       " 2.7913657988790526,\n",
       " -2.445642415431446,\n",
       " -2.3318710741739954,\n",
       " -1.6218154181274638,\n",
       " -1.6597391985466137,\n",
       " 2.226128479147724,\n",
       " -1.4975603090814946,\n",
       " -0.7390594532085594,\n",
       " -1.2217646357552443,\n",
       " -1.2802923108925803,\n",
       " 1.1759109583795668,\n",
       " -2.445642415431446,\n",
       " -1.3849164019442883,\n",
       " 1.8280003839535288,\n",
       " -1.5956979383948133,\n",
       " -1.0978517988971306,\n",
       " -1.6815634019115249,\n",
       " -1.5467868734583026,\n",
       " -0.3910834029794501,\n",
       " -2.289041683613312,\n",
       " 1.2737444705605305,\n",
       " -1.6597391985466137,\n",
       " -1.1220507084908682,\n",
       " -1.4067406053091993,\n",
       " 1.0481230907094812,\n",
       " -1.8619308124170515,\n",
       " 1.9359608156896377,\n",
       " -1.0460413996748155,\n",
       " -1.180103222174107,\n",
       " -1.6559078902828581,\n",
       " -1.7132676651606638,\n",
       " 0.2248138122445259,\n",
       " 0.2779662998198563,\n",
       " -2.007667852640076,\n",
       " -0.9668574214320984,\n",
       " -1.0033737570918846,\n",
       " 0.369879008230646,\n",
       " -0.2901243786473875,\n",
       " -2.007667852640076,\n",
       " -1.4670063079322873,\n",
       " -1.2217646357552443,\n",
       " -2.289041683613312,\n",
       " -1.6218154181274638,\n",
       " -1.3849682556732077,\n",
       " -1.4067406053091993,\n",
       " -1.3308930444708993]"
      ]
     },
     "execution_count": 220,
     "metadata": {},
     "output_type": "execute_result"
    }
   ],
   "source": [
    "my_clf.predict(X_test)"
   ]
  },
  {
   "cell_type": "code",
   "execution_count": 221,
   "metadata": {},
   "outputs": [
    {
     "data": {
      "text/plain": [
       "0.7521367521367521"
      ]
     },
     "execution_count": 221,
     "metadata": {},
     "output_type": "execute_result"
    }
   ],
   "source": [
    "my_clf.score(X_test, y_test)"
   ]
  },
  {
   "cell_type": "code",
   "execution_count": 222,
   "metadata": {},
   "outputs": [],
   "source": [
    "my_clf = MySGDClassifier(batch_generator=my_batch_generator, max_epoch=10, alpha=0.1, C=20000, batch_size = 1, drag=1.05)"
   ]
  },
  {
   "cell_type": "code",
   "execution_count": 223,
   "metadata": {},
   "outputs": [
    {
     "name": "stdout",
     "output_type": "stream",
     "text": [
      "0  =  0.1623389819986056\n",
      "1  =  0.1583283486142053\n",
      "2  =  0.1575476472853597\n",
      "3  =  0.15751701128221926\n",
      "4  =  0.1573614469019814\n",
      "5  =  0.15691945188138837\n",
      "6  =  0.15714482521866102\n",
      "7  =  0.15669269696216506\n",
      "8  =  0.15675052767971331\n",
      "9  =  0.15695218493277505\n",
      "CPU times: user 2.35 s, sys: 33.2 ms, total: 2.38 s\n",
      "Wall time: 2.42 s\n"
     ]
    },
    {
     "data": {
      "text/plain": [
       "MySGDClassifier(C=20000, alpha=0.06139132535407589,\n",
       "                batch_generator=<function my_batch_generator at 0x122a06cb0>,\n",
       "                batch_size=1, drag=1.05, max_epoch=10, model_type='lin_reg')"
      ]
     },
     "execution_count": 223,
     "metadata": {},
     "output_type": "execute_result"
    }
   ],
   "source": [
    "%time my_clf.fit(X_train, y_train)"
   ]
  },
  {
   "cell_type": "code",
   "execution_count": 224,
   "metadata": {},
   "outputs": [
    {
     "name": "stdout",
     "output_type": "stream",
     "text": [
      "CPU times: user 900 µs, sys: 137 µs, total: 1.04 ms\n",
      "Wall time: 931 µs\n"
     ]
    },
    {
     "data": {
      "text/plain": [
       "0.17875874388424468"
      ]
     },
     "execution_count": 224,
     "metadata": {},
     "output_type": "execute_result"
    }
   ],
   "source": [
    "%time my_clf.calc_loss(X_test, y_test)"
   ]
  },
  {
   "cell_type": "code",
   "execution_count": 225,
   "metadata": {},
   "outputs": [
    {
     "data": {
      "text/plain": [
       "[0.16689246099238875,\n",
       " 0.6025700487725758,\n",
       " 0.3234707400723006,\n",
       " 0.5102180410710064,\n",
       " 0.31339977004506436,\n",
       " 0.29538350261132185,\n",
       " 0.24662677674593037,\n",
       " 0.08591363753053194,\n",
       " 0.001846584743262547,\n",
       " 0.16689246099238875,\n",
       " 0.3150031429030863,\n",
       " 0.29506231730623733,\n",
       " 0.1841449829670027,\n",
       " 0.19696507407376357,\n",
       " 0.18929831927966778,\n",
       " 0.16689246099238875,\n",
       " 0.24667591349607745,\n",
       " 0.001846584743262547,\n",
       " 0.5662538098066268,\n",
       " 0.3121693326060333,\n",
       " 0.3458765983595797,\n",
       " 0.2733653720669371,\n",
       " 0.4631138248137839,\n",
       " 0.3458765983595797,\n",
       " 0.17003436132169386,\n",
       " 0.33580562833234345,\n",
       " 0.13848403822632546,\n",
       " 0.4888339439576122,\n",
       " 0.7087929561367741,\n",
       " 0.010314181912476822,\n",
       " 0.05902177102772127,\n",
       " 0.1435799193856973,\n",
       " 0.3374090011903654,\n",
       " 0.3637107320183307,\n",
       " 0.7236200511539395,\n",
       " 0.2446296544775887,\n",
       " 0.29506231730623733,\n",
       " 0.24662677674593037,\n",
       " 0.6281597010629101,\n",
       " 0.2065508412542818,\n",
       " 0.6804932053226226,\n",
       " 0.21484607789625207,\n",
       " 0.8115745431112753,\n",
       " 0.16689246099238875,\n",
       " 0.44747578200027815,\n",
       " 0.42361379184477965,\n",
       " 0.01909910671787657,\n",
       " 0.15842486382317444,\n",
       " 0.3407232620469146,\n",
       " 0.1435799193856973,\n",
       " 0.2509595137796581,\n",
       " 0.14130280870205456,\n",
       " 0.02756670388709087,\n",
       " 0.8007575684438885,\n",
       " 0.24249191661044375,\n",
       " 0.15842486382317444,\n",
       " 0.05902177102772127,\n",
       " 0.25309725164680297,\n",
       " 0.3364631917063055,\n",
       " 0.09438123469974624,\n",
       " 0.1841449829670027,\n",
       " 0.15842486382317444,\n",
       " 0.05902177102772127,\n",
       " 0.16689246099238875,\n",
       " 0.6238680245826531,\n",
       " 0.1435799193856973,\n",
       " 0.09651897256689118,\n",
       " 0.34359174367684703,\n",
       " 0.1615667641524796,\n",
       " 0.15842486382317444,\n",
       " 0.31814504323239146,\n",
       " 1.0830495938651685,\n",
       " 0.010314181912476822,\n",
       " 0.07753175677431409,\n",
       " 0.18929831927966778,\n",
       " 0.16689246099238875,\n",
       " 0.9328486620535195,\n",
       " 0.22584971133477777,\n",
       " 0.3322556648777003,\n",
       " 0.2242209184586513,\n",
       " 0.24249191661044375,\n",
       " 0.7529578413669162,\n",
       " 0.010314181912476822,\n",
       " 0.2156000501076331,\n",
       " 0.8252952997250375,\n",
       " 0.14278682100966866,\n",
       " 0.30493217287585006,\n",
       " 0.15842486382317444,\n",
       " 0.16720978862857416,\n",
       " 0.4317084688273568,\n",
       " 0.02756670388709087,\n",
       " 0.7732647517151872,\n",
       " 0.16689246099238875,\n",
       " 0.31409645958367394,\n",
       " 0.2071324529384188,\n",
       " 0.7293926317105457,\n",
       " 0.1568214909651525,\n",
       " 0.8784596937645753,\n",
       " 0.3259357727627307,\n",
       " 0.2551435106652918,\n",
       " 0.12487180278250272,\n",
       " 0.16420415737015373,\n",
       " 0.551162466554736,\n",
       " 0.5496359431043836,\n",
       " 0.06764263937873946,\n",
       " 0.2950710153442939,\n",
       " 0.3089431232710089,\n",
       " 0.5598324716559011,\n",
       " 0.4699780491249762,\n",
       " 0.06764263937873946,\n",
       " 0.1755050252705444,\n",
       " 0.2242209184586513,\n",
       " 0.02756670388709087,\n",
       " 0.18929831927966778,\n",
       " 0.2446296544775887,\n",
       " 0.2071324529384188,\n",
       " 0.251944169512977]"
      ]
     },
     "execution_count": 225,
     "metadata": {},
     "output_type": "execute_result"
    }
   ],
   "source": [
    "my_clf.predict(X_test)"
   ]
  },
  {
   "cell_type": "code",
   "execution_count": 226,
   "metadata": {},
   "outputs": [
    {
     "data": {
      "text/plain": [
       "0.7777777777777778"
      ]
     },
     "execution_count": 226,
     "metadata": {},
     "output_type": "execute_result"
    }
   ],
   "source": [
    "my_clf.score(X_test, y_test)"
   ]
  },
  {
   "cell_type": "code",
   "execution_count": 227,
   "metadata": {},
   "outputs": [],
   "source": [
    "import pandas as pd\n",
    "train_data = pd.read_csv('test_groups.csv')\n",
    "traingroups_titledata = {}\n",
    "for i in range(len(train_data)):\n",
    "    new_doc = train_data.iloc[i]\n",
    "    doc_group = new_doc['group_id']\n",
    "    doc_id = new_doc['doc_id']\n",
    "    title = doc_to_title[doc_id]\n",
    "    if doc_group not in traingroups_titledata:\n",
    "        traingroups_titledata[doc_group] = []\n",
    "    traingroups_titledata[doc_group].append((doc_id, title, target))"
   ]
  },
  {
   "cell_type": "code",
   "execution_count": 228,
   "metadata": {},
   "outputs": [
    {
     "data": {
      "text/plain": [
       "array([[ 3,  3,  2,  2,  2,  2,  2,  2,  2,  2,  2,  1,  1,  1,  1],\n",
       "       [ 5,  3,  3,  2,  2,  2,  2,  2,  2,  2,  2,  2,  2,  2,  2],\n",
       "       [ 6,  5,  5,  5,  5,  5,  5,  4,  4,  4,  4,  4,  4,  4,  4],\n",
       "       [ 6,  5,  4,  4,  4,  4,  4,  3,  3,  3,  3,  3,  3,  3,  3],\n",
       "       [ 4,  3,  3,  3,  2,  2,  2,  2,  2,  2,  2,  2,  2,  2,  2],\n",
       "       [ 3,  3,  1,  1,  1,  1,  1,  1,  1,  1,  1,  1,  1,  1,  1],\n",
       "       [ 1,  1,  1,  0,  0,  0,  0,  0,  0,  0,  0,  0,  0,  0,  0],\n",
       "       [ 0,  0,  0,  0,  0,  0,  0,  0,  0,  0,  0,  0,  0,  0,  0],\n",
       "       [11, 10,  5,  5,  4,  4,  4,  4,  4,  3,  3,  3,  3,  3,  3],\n",
       "       [ 1,  1,  1,  1,  1,  1,  1,  1,  0,  0,  0,  0,  0,  0,  0],\n",
       "       [ 4,  3,  3,  3,  2,  2,  2,  2,  2,  2,  2,  2,  1,  1,  1],\n",
       "       [ 2,  2,  1,  1,  1,  1,  1,  1,  1,  1,  1,  1,  1,  1,  1],\n",
       "       [ 2,  2,  2,  2,  2,  2,  2,  2,  2,  2,  2,  1,  1,  1,  1],\n",
       "       [ 4,  4,  4,  4,  3,  3,  3,  3,  3,  3,  3,  2,  2,  2,  2],\n",
       "       [ 3,  3,  2,  2,  2,  2,  2,  2,  1,  1,  1,  1,  1,  1,  1],\n",
       "       [ 2,  1,  1,  1,  1,  1,  1,  1,  1,  1,  1,  1,  1,  1,  1],\n",
       "       [ 5,  5,  5,  4,  4,  4,  4,  3,  3,  3,  3,  3,  3,  3,  3],\n",
       "       [ 3,  3,  2,  2,  2,  2,  2,  2,  2,  2,  2,  1,  1,  1,  1],\n",
       "       [ 4,  3,  3,  3,  3,  3,  3,  3,  2,  2,  2,  2,  2,  2,  2],\n",
       "       [ 2,  2,  1,  1,  1,  1,  1,  1,  1,  1,  1,  1,  1,  1,  1],\n",
       "       [ 3,  2,  2,  2,  2,  2,  2,  2,  2,  2,  2,  2,  2,  2,  1],\n",
       "       [ 4,  3,  3,  2,  2,  2,  2,  2,  2,  2,  2,  2,  2,  2,  2],\n",
       "       [ 0,  0,  0,  0,  0,  0,  0,  0,  0,  0,  0,  0,  0,  0,  0],\n",
       "       [ 4,  3,  3,  3,  3,  3,  2,  2,  2,  2,  2,  2,  2,  2,  2],\n",
       "       [ 3,  3,  3,  2,  2,  2,  1,  1,  1,  1,  1,  1,  1,  1,  1],\n",
       "       [ 1,  1,  1,  1,  1,  1,  1,  1,  1,  1,  1,  1,  1,  1,  1],\n",
       "       [ 2,  2,  2,  2,  2,  2,  2,  2,  1,  1,  1,  1,  1,  1,  1],\n",
       "       [ 3,  3,  2,  2,  2,  2,  2,  2,  2,  2,  2,  2,  2,  2,  1],\n",
       "       [ 3,  3,  2,  2,  2,  2,  2,  2,  2,  2,  2,  2,  2,  2,  2],\n",
       "       [ 4,  3,  3,  3,  3,  2,  2,  2,  2,  2,  2,  2,  2,  2,  2],\n",
       "       [ 2,  2,  2,  2,  2,  2,  2,  2,  1,  1,  1,  1,  1,  1,  1],\n",
       "       [ 2,  2,  2,  2,  2,  2,  2,  1,  1,  1,  1,  1,  1,  1,  1],\n",
       "       [ 3,  3,  2,  2,  2,  2,  2,  2,  2,  2,  2,  2,  2,  2,  1],\n",
       "       [ 1,  1,  1,  1,  1,  1,  1,  1,  1,  1,  1,  1,  1,  1,  1],\n",
       "       [ 4,  2,  2,  2,  2,  2,  2,  2,  1,  1,  1,  1,  1,  1,  1],\n",
       "       [ 1,  1,  1,  1,  1,  1,  1,  1,  1,  1,  1,  1,  1,  1,  1],\n",
       "       [ 2,  2,  2,  1,  1,  1,  1,  1,  1,  1,  1,  1,  1,  1,  1],\n",
       "       [ 2,  2,  2,  2,  2,  2,  2,  2,  1,  1,  1,  1,  1,  1,  1],\n",
       "       [ 3,  3,  2,  2,  2,  1,  1,  1,  1,  1,  1,  1,  1,  1,  1],\n",
       "       [ 2,  2,  2,  1,  1,  1,  1,  1,  1,  1,  1,  1,  1,  1,  1],\n",
       "       [10,  7,  4,  3,  3,  3,  3,  3,  3,  2,  2,  2,  2,  2,  2],\n",
       "       [ 4,  4,  4,  4,  4,  4,  4,  4,  3,  3,  3,  3,  3,  3,  2],\n",
       "       [ 3,  2,  2,  2,  2,  2,  2,  2,  2,  2,  2,  2,  2,  2,  2],\n",
       "       [ 6,  4,  4,  4,  4,  4,  4,  3,  3,  3,  3,  3,  3,  3,  2],\n",
       "       [ 1,  1,  1,  1,  1,  1,  1,  1,  1,  1,  1,  1,  1,  1,  1],\n",
       "       [ 1,  1,  1,  1,  0,  0,  0,  0,  0,  0,  0,  0,  0,  0,  0],\n",
       "       [ 3,  2,  2,  2,  2,  2,  2,  2,  2,  2,  2,  2,  2,  2,  2],\n",
       "       [ 0,  0,  0,  0,  0,  0,  0,  0,  0,  0,  0,  0,  0,  0,  0],\n",
       "       [ 1,  1,  1,  1,  1,  1,  1,  1,  1,  1,  1,  1,  1,  1,  1],\n",
       "       [ 4,  4,  3,  3,  3,  3,  3,  3,  3,  3,  2,  2,  2,  2,  2]])"
      ]
     },
     "execution_count": 228,
     "metadata": {},
     "output_type": "execute_result"
    }
   ],
   "source": [
    "import numpy as np\n",
    "X_train = []\n",
    "groups_train = []\n",
    "for new_group in traingroups_titledata:\n",
    "    docs = traingroups_titledata[new_group]\n",
    "    for k, (doc_id, title, target) in enumerate(docs):\n",
    "        groups_train.append(new_group)\n",
    "        all_dist = []\n",
    "        words = set(title.strip().split())\n",
    "        for j in range(0, len(docs)):\n",
    "            if k == j:\n",
    "                continue\n",
    "            doc_id_j, title_j, target_j = docs[j]\n",
    "            words_j = set(title_j.strip().split())\n",
    "            all_dist.append(len(words.intersection(words_j)))\n",
    "        X_train.append(sorted(all_dist, reverse=True)[0:15]    )\n",
    "X_train = np.array(X_train)\n",
    "groups_train = np.array(groups_train)\n",
    "X_train[:50]"
   ]
  },
  {
   "cell_type": "code",
   "execution_count": 229,
   "metadata": {},
   "outputs": [
    {
     "name": "stdout",
     "output_type": "stream",
     "text": [
      "StandardScaler(copy=True, with_mean=True, with_std=True)\n",
      "[3.27335057 2.61688819 2.32579539 2.14404282 2.00637517 1.89571179\n",
      " 1.80140735 1.71137307 1.64124617 1.57208155 1.51217899 1.45648644\n",
      " 1.40867264 1.36512901 1.32375053]\n",
      "[[ 3  3  2  2  2  2  2  2  2  2  2  1  1  1  1]\n",
      " [ 5  3  3  2  2  2  2  2  2  2  2  2  2  2  2]\n",
      " [ 6  5  5  5  5  5  5  4  4  4  4  4  4  4  4]\n",
      " [ 6  5  4  4  4  4  4  3  3  3  3  3  3  3  3]\n",
      " [ 4  3  3  3  2  2  2  2  2  2  2  2  2  2  2]\n",
      " [ 3  3  1  1  1  1  1  1  1  1  1  1  1  1  1]\n",
      " [ 1  1  1  0  0  0  0  0  0  0  0  0  0  0  0]\n",
      " [ 0  0  0  0  0  0  0  0  0  0  0  0  0  0  0]\n",
      " [11 10  5  5  4  4  4  4  4  3  3  3  3  3  3]\n",
      " [ 1  1  1  1  1  1  1  1  0  0  0  0  0  0  0]]\n",
      "[[-0.09960999  0.17383214 -0.16130939 -0.07543931 -0.00347823  0.05915747\n",
      "   0.11615608  0.1763277   0.22586166  0.28046378  0.32809654 -0.31559104\n",
      "  -0.28701374 -0.25952987 -0.23333124]\n",
      " [ 0.62919761  0.17383214  0.33381545 -0.07543931 -0.00347823  0.05915747\n",
      "   0.11615608  0.1763277   0.22586166  0.28046378  0.32809654  0.37575708\n",
      "   0.41529347  0.45125965  0.48738185]\n",
      " [ 0.9936014   1.08130689  1.32406513  1.49574574  1.63329359  1.76090714\n",
      "   1.87084458  1.39816584  1.4850073   1.59129199  1.67324788  1.75845332\n",
      "   1.81990788  1.87283869  1.92880802]\n",
      " [ 0.9936014   1.08130689  0.82894029  0.97201739  1.08770298  1.19365725\n",
      "   1.28594841  0.78724677  0.85543448  0.93587789  1.00067221  1.0671052\n",
      "   1.11760067  1.16204917  1.20809494]\n",
      " [ 0.26479381  0.17383214  0.33381545  0.44828904 -0.00347823  0.05915747\n",
      "   0.11615608  0.1763277   0.22586166  0.28046378  0.32809654  0.37575708\n",
      "   0.41529347  0.45125965  0.48738185]\n",
      " [-0.09960999  0.17383214 -0.65643423 -0.59916766 -0.54906884 -0.50809242\n",
      "  -0.46874009 -0.43459137 -0.40371116 -0.37495032 -0.34447912 -0.31559104\n",
      "  -0.28701374 -0.25952987 -0.23333124]\n",
      " [-0.82841758 -0.7336426  -0.65643423 -1.12289601 -1.09465945 -1.07534231\n",
      "  -1.05363625 -1.04551044 -1.03328397 -1.03036442 -1.01705479 -1.00693916\n",
      "  -0.98932095 -0.97031939 -0.95404433]\n",
      " [-1.19282138 -1.18737997 -1.15155907 -1.12289601 -1.09465945 -1.07534231\n",
      "  -1.05363625 -1.04551044 -1.03328397 -1.03036442 -1.01705479 -1.00693916\n",
      "  -0.98932095 -0.97031939 -0.95404433]\n",
      " [ 2.81562039  3.34999374  1.32406513  1.49574574  1.08770298  1.19365725\n",
      "   1.28594841  1.39816584  1.4850073   0.93587789  1.00067221  1.0671052\n",
      "   1.11760067  1.16204917  1.20809494]\n",
      " [-0.82841758 -0.7336426  -0.65643423 -0.59916766 -0.54906884 -0.50809242\n",
      "  -0.46874009 -0.43459137 -1.03328397 -1.03036442 -1.01705479 -1.00693916\n",
      "  -0.98932095 -0.97031939 -0.95404433]]\n"
     ]
    }
   ],
   "source": [
    "scaler = StandardScaler()\n",
    "print(scaler.fit(X_train))\n",
    "print(scaler.mean_)\n",
    "print(X_train[:10])\n",
    "X_train = scaler.transform(X_train)\n",
    "print(X_train[:10])"
   ]
  },
  {
   "cell_type": "code",
   "execution_count": 230,
   "metadata": {},
   "outputs": [],
   "source": [
    "import csv\n",
    "my_clf.predict(X_train)\n",
    "with open('sample_submission.csv', 'w') as f:\n",
    "    fieldnames = ['pair_id', 'target']\n",
    "    writer = csv.DictWriter(f, fieldnames=fieldnames)\n",
    "    writer.writeheader()\n",
    "    i = 11691\n",
    "    for elem in my_clf.proba:\n",
    "        writer.writerow({'pair_id': str(i), 'target': str(elem)})\n",
    "        i += 1\n",
    "f.close()"
   ]
  },
  {
   "cell_type": "code",
   "execution_count": null,
   "metadata": {},
   "outputs": [],
   "source": []
  },
  {
   "cell_type": "markdown",
   "metadata": {},
   "source": [
    "Разбейте данные на обучение и валидацию. Подберите параметры C, alpha, max_epoch, model_type на валидации (Вы же помните, как правильно в этой задаче делать валидацию?)"
   ]
  },
  {
   "cell_type": "code",
   "execution_count": 208,
   "metadata": {},
   "outputs": [],
   "source": [
    "import pandas as pd\n",
    "train_data = pd.read_csv('test_groups.csv')\n",
    "traingroups_titledata = {}\n",
    "for i in range(len(train_data)):\n",
    "    new_doc = train_data.iloc[i]\n",
    "    doc_group = new_doc['group_id']\n",
    "    doc_id = new_doc['doc_id']\n",
    "    title = doc_to_title[doc_id]\n",
    "    if doc_group not in traingroups_titledata:\n",
    "        traingroups_titledata[doc_group] = []\n",
    "    traingroups_titledata[doc_group].append((doc_id, title, target))"
   ]
  },
  {
   "cell_type": "code",
   "execution_count": 209,
   "metadata": {},
   "outputs": [],
   "source": [
    "import numpy as np\n",
    "X_test = []\n",
    "groups_train = []\n",
    "for new_group in traingroups_titledata:\n",
    "    docs = traingroups_titledata[new_group]\n",
    "    for k, (doc_id, title, target) in enumerate(docs):\n",
    "        groups_train.append(new_group)\n",
    "        all_dist = []\n",
    "        words = set(title.strip().split())\n",
    "        for j in range(0, len(docs)):\n",
    "            if k == j:\n",
    "                continue\n",
    "            doc_id_j, title_j, target_j = docs[j]\n",
    "            words_j = set(title_j.strip().split())\n",
    "            all_dist.append(len(words.intersection(words_j)))\n",
    "        X_test.append(sorted(all_dist, reverse=True)[0:15]    )\n",
    "X_test = np.array(X_test)\n",
    "groups_train = np.array(groups_train)\n"
   ]
  },
  {
   "cell_type": "code",
   "execution_count": 210,
   "metadata": {},
   "outputs": [],
   "source": [
    "import csv\n",
    "scaler = StandardScaler()\n",
    "scaler.fit(X_test)\n",
    "X_test = scaler.transform(X_test)\n",
    "a = my_clf.predict(X_test)\n",
    "with open('submission.csv', 'w') as f:\n",
    "    fieldnames = ['pair_id', 'target']\n",
    "    writer = csv.DictWriter(f, fieldnames=fieldnames)\n",
    "    writer.writeheader()\n",
    "    i = 11691\n",
    "    for elem in a:\n",
    "        writer.writerow({'pair_id': str(i), 'target': str(elem)})\n",
    "        i += 1\n",
    "f.close()"
   ]
  },
  {
   "cell_type": "markdown",
   "metadata": {
    "collapsed": true
   },
   "source": [
    "Подберите порог линейной модели, по достижении которого, Вы будете относить объект к классу 1. Вспомните, какую метрику мы оптимизируем в соревновании.  Как тогда правильно подобрать порог?"
   ]
  },
  {
   "cell_type": "code",
   "execution_count": null,
   "metadata": {
    "collapsed": true
   },
   "outputs": [],
   "source": []
  },
  {
   "cell_type": "code",
   "execution_count": null,
   "metadata": {
    "collapsed": true
   },
   "outputs": [],
   "source": []
  },
  {
   "cell_type": "markdown",
   "metadata": {},
   "source": [
    "С лучшими параметрами на валидации сделайте предсказание на тестовом множестве, отправьте его на проверку на платформу kaggle. Убедитесь, что Вы смогли побить public score первого бейзлайна."
   ]
  },
  {
   "cell_type": "markdown",
   "metadata": {
    "collapsed": true
   },
   "source": [
    "** При сдаче домашки Вам необходимо кроме ссылки на ноутбук прислать Ваш ник на kaggle, под которым Вы залили решение, которое побило первый бейзлайн. **"
   ]
  },
  {
   "cell_type": "code",
   "execution_count": null,
   "metadata": {
    "collapsed": true
   },
   "outputs": [],
   "source": []
  },
  {
   "cell_type": "markdown",
   "metadata": {},
   "source": [
    "# Фидбек (бесценно)"
   ]
  },
  {
   "cell_type": "markdown",
   "metadata": {},
   "source": [
    "* Какие аспекты обучения линейных моделей Вам показались непонятными? Какое место стоит дополнительно объяснить?"
   ]
  },
  {
   "cell_type": "markdown",
   "metadata": {},
   "source": [
    "***Ваше ответ здесь***"
   ]
  },
  {
   "cell_type": "markdown",
   "metadata": {},
   "source": [
    "* Здесь Вы можете оставить отзыв о этой домашней работе или о всем курсе.   "
   ]
  },
  {
   "cell_type": "markdown",
   "metadata": {},
   "source": [
    "*** ВАШ ОТЗЫВ ЗДЕСЬ***"
   ]
  },
  {
   "cell_type": "code",
   "execution_count": null,
   "metadata": {
    "collapsed": true
   },
   "outputs": [],
   "source": []
  },
  {
   "cell_type": "code",
   "execution_count": null,
   "metadata": {
    "collapsed": true
   },
   "outputs": [],
   "source": []
  }
 ],
 "metadata": {
  "anaconda-cloud": {},
  "kernelspec": {
   "display_name": "Python 3",
   "language": "python",
   "name": "python3"
  },
  "language_info": {
   "codemirror_mode": {
    "name": "ipython",
    "version": 3
   },
   "file_extension": ".py",
   "mimetype": "text/x-python",
   "name": "python",
   "nbconvert_exporter": "python",
   "pygments_lexer": "ipython3",
   "version": "3.7.4"
  },
  "nav_menu": {},
  "toc": {
   "colors": {
    "hover_highlight": "#DAA520",
    "navigate_num": "#000000",
    "navigate_text": "#333333",
    "running_highlight": "#FF0000",
    "selected_highlight": "#FFD700",
    "sidebar_border": "#EEEEEE",
    "wrapper_background": "#FFFFFF"
   },
   "moveMenuLeft": true,
   "nav_menu": {
    "height": "402px",
    "width": "253px"
   },
   "navigate_menu": true,
   "number_sections": false,
   "sideBar": true,
   "threshold": 4,
   "toc_cell": false,
   "toc_section_display": "block",
   "toc_window_display": true,
   "widenNotebook": false
  }
 },
 "nbformat": 4,
 "nbformat_minor": 2
}
